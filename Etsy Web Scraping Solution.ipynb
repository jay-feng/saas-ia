{
 "cells": [
  {
   "cell_type": "code",
   "execution_count": 1,
   "metadata": {},
   "outputs": [],
   "source": [
    "# These are the libraries we used - feel free to import any other libraries as necessary\n",
    "\n",
    "import numpy as np\n",
    "import matplotlib.pyplot as plt\n",
    "import seaborn as sns\n",
    "\n",
    "# You may have to download beautifulsoup by uncommenting and running the line below\n",
    "# !pip install beautifulsoup4\n",
    "\n",
    "from bs4 import BeautifulSoup\n",
    "\n",
    "import requests"
   ]
  },
  {
   "cell_type": "markdown",
   "metadata": {},
   "source": [
    "# Etsy Web Scraping  \n",
    "Pick an item/category, such as \"Backpacks\". Feel free to pick any item/category you want!"
   ]
  },
  {
   "cell_type": "markdown",
   "metadata": {},
   "source": [
    "### Make a histogram of item prices on the first page.  \n",
    "Use beautifulsoup to get the prices of all the items on the first page (as in the first page product results). Refer to the workshop demo if needed!\n",
    "\n",
    "Hint: which CSS class can be used to find all of the price tags?"
   ]
  },
  {
   "cell_type": "code",
   "execution_count": 41,
   "metadata": {
    "scrolled": false
   },
   "outputs": [],
   "source": [
    "# Request URL\n",
    "page = requests.get(\"https://www.etsy.com/c/bags-and-purses/backpacks?ref=pagination&page=1\")\n",
    "\n",
    "# Fetch webpage\n",
    "soup = BeautifulSoup(page.content,\"html.parser\")\n",
    "# print(soup.prettify())"
   ]
  },
  {
   "cell_type": "code",
   "execution_count": 42,
   "metadata": {
    "scrolled": true
   },
   "outputs": [],
   "source": [
    "# Get a list of all 'span' tags with CSS class 'currency-value'\n",
    "all_tags = soup.find_all(\"span\", class_=\"currency-value\", text=True)"
   ]
  },
  {
   "cell_type": "code",
   "execution_count": 43,
   "metadata": {},
   "outputs": [],
   "source": [
    "# Get a list of the text content inside each of the lines found above\n",
    "texts = []\n",
    "for i in all_tags:\n",
    "    texts.append(i.findAll(text=True))"
   ]
  },
  {
   "cell_type": "code",
   "execution_count": 5,
   "metadata": {
    "scrolled": true
   },
   "outputs": [],
   "source": [
    "# Convert the list of prices to floats\n",
    "item_prices = [float(i[0].replace(',','')) for i in texts]\n",
    "item_prices = np.array(item_prices)"
   ]
  },
  {
   "cell_type": "code",
   "execution_count": 6,
   "metadata": {
    "scrolled": false
   },
   "outputs": [
    {
     "data": {
      "text/plain": [
       "Text(0.5, 1.0, 'Costs of Backpacks on Page 1')"
      ]
     },
     "execution_count": 6,
     "metadata": {},
     "output_type": "execute_result"
    },
    {
     "data": {
      "image/png": "[encoded data removed]",
      "text/plain": [
       "<Figure size 432x288 with 1 Axes>"
      ]
     },
     "metadata": {
      "needs_background": "light"
     },
     "output_type": "display_data"
    }
   ],
   "source": [
    "sns.histplot(item_prices, stat=\"frequency\", bins=np.arange(0,500,25))\n",
    "plt.title('Costs of Backpacks on Page 1')"
   ]
  },
  {
   "cell_type": "markdown",
   "metadata": {},
   "source": [
    "### What is the mean of the prices in the first page?"
   ]
  },
  {
   "cell_type": "code",
   "execution_count": 7,
   "metadata": {
    "scrolled": false
   },
   "outputs": [
    {
     "data": {
      "text/plain": [
       "106.01819672131148"
      ]
     },
     "execution_count": 7,
     "metadata": {},
     "output_type": "execute_result"
    }
   ],
   "source": [
    "np.mean(item_prices)"
   ]
  },
  {
   "cell_type": "markdown",
   "metadata": {},
   "source": [
    "## What is the distribution of prices in the second page?"
   ]
  },
  {
   "cell_type": "code",
   "execution_count": 14,
   "metadata": {},
   "outputs": [],
   "source": [
    "# Same steps as above\n",
    "def get_prices(url):\n",
    "    page = requests.get(url)\n",
    "    soup = BeautifulSoup(page.content,\"html.parser\")\n",
    "    \n",
    "    all_tags = soup.find_all(\"span\", class_=\"currency-value\", text=True)\n",
    "    \n",
    "    texts = []\n",
    "    for i in all_tags:\n",
    "        texts.append(i.findAll(text=True))\n",
    "    \n",
    "    item_costs = [float(i[0].replace(',','')) for i in texts]\n",
    "    return np.array(item_costs)"
   ]
  },
  {
   "cell_type": "code",
   "execution_count": 15,
   "metadata": {
    "scrolled": true
   },
   "outputs": [],
   "source": [
    "item_prices_2 = get_prices(\"https://www.etsy.com/c/bags-and-purses/backpacks?ref=pagination&page=2\")"
   ]
  },
  {
   "cell_type": "code",
   "execution_count": 16,
   "metadata": {
    "scrolled": true
   },
   "outputs": [
    {
     "data": {
      "text/plain": [
       "Text(0.5, 1.0, 'Costs of Backpacks on Page 2')"
      ]
     },
     "execution_count": 16,
     "metadata": {},
     "output_type": "execute_result"
    },
    {
     "data": {
      "image/png": "[encoded data removed]",
      "text/plain": [
       "<Figure size 432x288 with 1 Axes>"
      ]
     },
     "metadata": {
      "needs_background": "light"
     },
     "output_type": "display_data"
    }
   ],
   "source": [
    "sns.histplot(item_prices_2, stat=\"frequency\", bins=np.arange(0,500,25))\n",
    "plt.title('Costs of Backpacks on Page 2')"
   ]
  },
  {
   "cell_type": "markdown",
   "metadata": {},
   "source": [
    "### What is the mean of prices on the second page?"
   ]
  },
  {
   "cell_type": "code",
   "execution_count": 17,
   "metadata": {},
   "outputs": [
    {
     "data": {
      "text/plain": [
       "118.67688524590166"
      ]
     },
     "execution_count": 17,
     "metadata": {},
     "output_type": "execute_result"
    }
   ],
   "source": [
    "np.mean(item_prices_2)"
   ]
  },
  {
   "cell_type": "markdown",
   "metadata": {},
   "source": [
    "## What is the distribution of prices in the first 20 pages?"
   ]
  },
  {
   "cell_type": "code",
   "execution_count": 44,
   "metadata": {},
   "outputs": [],
   "source": [
    "# Get the prices of items in the first 20 pages by repeating the same process for modified urls\n",
    "item_prices_first_20 = np.array([])\n",
    "for i in range(1,21):\n",
    "    item_prices_i = get_prices(\"https://www.etsy.com/c/bags-and-purses/backpacks?ref=pagination&page=\" + str(i))\n",
    "    item_prices_first_20 = np.append(item_prices_first_20, item_prices_i)"
   ]
  },
  {
   "cell_type": "code",
   "execution_count": 31,
   "metadata": {
    "scrolled": true
   },
   "outputs": [
    {
     "data": {
      "text/plain": [
       "Text(0.5, 1.0, 'Costs of Backpacks on First 20 Pages')"
      ]
     },
     "execution_count": 31,
     "metadata": {},
     "output_type": "execute_result"
    },
    {
     "data": {
      "image/png": "[encoded data removed]",
      "text/plain": [
       "<Figure size 432x288 with 1 Axes>"
      ]
     },
     "metadata": {
      "needs_background": "light"
     },
     "output_type": "display_data"
    }
   ],
   "source": [
    "sns.histplot(item_prices_first_20, stat=\"frequency\", bins=np.arange(0,500,25))\n",
    "plt.title('Costs of Backpacks on First 20 Pages')"
   ]
  },
  {
   "cell_type": "markdown",
   "metadata": {},
   "source": [
    "## Is there a relationship between the page number and the average price of items on that page?\n",
    "\n",
    "Support your answer with a visualization"
   ]
  },
  {
   "cell_type": "code",
   "execution_count": 32,
   "metadata": {},
   "outputs": [],
   "source": [
    "page_numbers = np.arange(1,21)\n",
    "mean_prices = np.array([])\n",
    "\n",
    "for i in page_numbers:\n",
    "    item_prices_i = get_prices(\"https://www.etsy.com/c/bags-and-purses/backpacks?ref=pagination&page=\" + str(i))\n",
    "    mean_prices = np.append(mean_prices, np.mean(item_prices_i))"
   ]
  },
  {
   "cell_type": "code",
   "execution_count": 34,
   "metadata": {
    "scrolled": false
   },
   "outputs": [
    {
     "data": {
      "text/plain": [
       "Text(0.5, 1.0, 'Mean price of backpacks on each page')"
      ]
     },
     "execution_count": 34,
     "metadata": {},
     "output_type": "execute_result"
    },
    {
     "data": {
      "image/png": "[encoded data removed]",
      "text/plain": [
       "<Figure size 432x288 with 1 Axes>"
      ]
     },
     "metadata": {
      "needs_background": "light"
     },
     "output_type": "display_data"
    }
   ],
   "source": [
    "sns.scatterplot(x=page_numbers, y=mean_prices)\n",
    "plt.title(\"Mean price of backpacks on each page\")"
   ]
  },
  {
   "cell_type": "markdown",
   "metadata": {},
   "source": [
    "Answer: no, probably not"
   ]
  },
  {
   "cell_type": "code",
   "execution_count": null,
   "metadata": {},
   "outputs": [],
   "source": []
  }
 ],
 "metadata": {
  "kernelspec": {
   "display_name": "Python 3",
   "language": "python",
   "name": "python3"
  },
  "language_info": {
   "codemirror_mode": {
    "name": "ipython",
    "version": 3
   },
   "file_extension": ".py",
   "mimetype": "text/x-python",
   "name": "python",
   "nbconvert_exporter": "python",
   "pygments_lexer": "ipython3",
   "version": "3.8.3"
  }
 },
 "nbformat": 4,
 "nbformat_minor": 4
}
