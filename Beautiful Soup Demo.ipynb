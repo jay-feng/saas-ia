{
 "cells": [
  {
   "cell_type": "code",
   "execution_count": 2,
   "metadata": {},
   "outputs": [],
   "source": [
    "from bs4 import BeautifulSoup\n",
    "\n",
    "import requests"
   ]
  },
  {
   "cell_type": "markdown",
   "metadata": {},
   "source": [
    "# Beautiful Soup Demo"
   ]
  },
  {
   "cell_type": "markdown",
   "metadata": {},
   "source": [
    "## Goal: get the names of all directors on the \"Team\" page"
   ]
  },
  {
   "cell_type": "code",
   "execution_count": 5,
   "metadata": {},
   "outputs": [],
   "source": [
    "# Request URL\n",
    "page = requests.get(\"https://saas.berkeley.edu/team\")\n",
    "\n",
    "# Fetch webpage\n",
    "soup = BeautifulSoup(page.content,\"html.parser\")\n",
    "#print(soup.prettify())"
   ]
  },
  {
   "cell_type": "markdown",
   "metadata": {},
   "source": [
    "Check out the documentation!  \n",
    "https://www.crummy.com/software/BeautifulSoup/bs4/doc/"
   ]
  },
  {
   "cell_type": "code",
   "execution_count": 6,
   "metadata": {},
   "outputs": [],
   "source": [
    "tags = soup.find_all(class_ = \"person-name\")"
   ]
  },
  {
   "cell_type": "code",
   "execution_count": 8,
   "metadata": {
    "scrolled": true
   },
   "outputs": [
    {
     "data": {
      "text/plain": [
       "<p class=\"person-name\">Elysia Gao</p>"
      ]
     },
     "execution_count": 8,
     "metadata": {},
     "output_type": "execute_result"
    }
   ],
   "source": [
    "tags[0]"
   ]
  },
  {
   "cell_type": "markdown",
   "metadata": {},
   "source": [
    "This is in the format of an HTML tag. How can we just get the text inside?"
   ]
  },
  {
   "cell_type": "code",
   "execution_count": 9,
   "metadata": {},
   "outputs": [
    {
     "data": {
      "text/plain": [
       "'Elysia Gao'"
      ]
     },
     "execution_count": 9,
     "metadata": {},
     "output_type": "execute_result"
    }
   ],
   "source": [
    "tags[0].get_text()"
   ]
  },
  {
   "cell_type": "code",
   "execution_count": 10,
   "metadata": {},
   "outputs": [],
   "source": [
    "names = [tag.get_text() for tag in tags]"
   ]
  },
  {
   "cell_type": "code",
   "execution_count": 11,
   "metadata": {
    "scrolled": false
   },
   "outputs": [
    {
     "data": {
      "text/plain": [
       "['Elysia Gao',\n",
       " 'Rachel Li',\n",
       " 'Sam Patel',\n",
       " 'Mary Guo',\n",
       " 'Luke Dai',\n",
       " 'Kishore Kumar',\n",
       " 'Sofia Theodoras',\n",
       " 'Amal Bhatnagar',\n",
       " 'Ewen Dai',\n",
       " 'Haoming Guo',\n",
       " 'Derek Cai',\n",
       " 'Ruhi Doshi',\n",
       " 'Jay Feng',\n",
       " 'Michael Wang',\n",
       " 'Jade Pan',\n",
       " 'Alex Wang',\n",
       " 'Jai Sankar',\n",
       " 'Kawin Swaddiwudhipong',\n",
       " 'Jeron Kok',\n",
       " 'Brian Yao',\n",
       " 'Ronnie Ghose',\n",
       " 'Lucas Bandarkar',\n",
       " 'Nicole Zhu',\n",
       " 'Valerie Yip']"
      ]
     },
     "execution_count": 11,
     "metadata": {},
     "output_type": "execute_result"
    }
   ],
   "source": [
    "names"
   ]
  },
  {
   "cell_type": "code",
   "execution_count": null,
   "metadata": {},
   "outputs": [],
   "source": []
  }
 ],
 "metadata": {
  "kernelspec": {
   "display_name": "Python 3",
   "language": "python",
   "name": "python3"
  },
  "language_info": {
   "codemirror_mode": {
    "name": "ipython",
    "version": 3
   },
   "file_extension": ".py",
   "mimetype": "text/x-python",
   "name": "python",
   "nbconvert_exporter": "python",
   "pygments_lexer": "ipython3",
   "version": "3.8.3"
  }
 },
 "nbformat": 4,
 "nbformat_minor": 4
}
