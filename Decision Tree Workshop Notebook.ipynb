{
 "cells": [
  {
   "cell_type": "code",
   "execution_count": 1,
   "metadata": {},
   "outputs": [],
   "source": [
    "import pandas as pd\n",
    "import numpy as np\n",
    "\n",
    "from sklearn import tree\n",
    "from sklearn.model_selection import train_test_split"
   ]
  },
  {
   "cell_type": "markdown",
   "metadata": {},
   "source": [
    "# Decision Tree Practice"
   ]
  },
  {
   "cell_type": "markdown",
   "metadata": {},
   "source": [
    "### Load in the Data"
   ]
  },
  {
   "cell_type": "code",
   "execution_count": 2,
   "metadata": {},
   "outputs": [],
   "source": [
    "df = pd.read_csv('https://raw.githubusercontent.com/rfordatascience/tidytuesday/master/data/2020/2020-11-03/ikea.csv')\n",
    "categories = [\"Tables & desks\", \"Bookcases & shelving units\", \"Chairs\"]"
   ]
  },
  {
   "cell_type": "code",
   "execution_count": 3,
   "metadata": {},
   "outputs": [
    {
     "data": {
      "text/html": [
       "<div>\n",
       "<style scoped>\n",
       "    .dataframe tbody tr th:only-of-type {\n",
       "        vertical-align: middle;\n",
       "    }\n",
       "\n",
       "    .dataframe tbody tr th {\n",
       "        vertical-align: top;\n",
       "    }\n",
       "\n",
       "    .dataframe thead th {\n",
       "        text-align: right;\n",
       "    }\n",
       "</style>\n",
       "<table border=\"1\" class=\"dataframe\">\n",
       "  <thead>\n",
       "    <tr style=\"text-align: right;\">\n",
       "      <th></th>\n",
       "      <th>Unnamed: 0</th>\n",
       "      <th>item_id</th>\n",
       "      <th>name</th>\n",
       "      <th>category</th>\n",
       "      <th>price</th>\n",
       "      <th>old_price</th>\n",
       "      <th>sellable_online</th>\n",
       "      <th>link</th>\n",
       "      <th>other_colors</th>\n",
       "      <th>short_description</th>\n",
       "      <th>designer</th>\n",
       "      <th>depth</th>\n",
       "      <th>height</th>\n",
       "      <th>width</th>\n",
       "    </tr>\n",
       "  </thead>\n",
       "  <tbody>\n",
       "    <tr>\n",
       "      <th>0</th>\n",
       "      <td>0</td>\n",
       "      <td>90420332</td>\n",
       "      <td>FREKVENS</td>\n",
       "      <td>Bar furniture</td>\n",
       "      <td>265.0</td>\n",
       "      <td>No old price</td>\n",
       "      <td>True</td>\n",
       "      <td>https://www.ikea.com/sa/en/p/frekvens-bar-tabl...</td>\n",
       "      <td>No</td>\n",
       "      <td>Bar table, in/outdoor,          51x51 cm</td>\n",
       "      <td>Nicholai Wiig Hansen</td>\n",
       "      <td>NaN</td>\n",
       "      <td>99.0</td>\n",
       "      <td>51.0</td>\n",
       "    </tr>\n",
       "    <tr>\n",
       "      <th>1</th>\n",
       "      <td>1</td>\n",
       "      <td>368814</td>\n",
       "      <td>NORDVIKEN</td>\n",
       "      <td>Bar furniture</td>\n",
       "      <td>995.0</td>\n",
       "      <td>No old price</td>\n",
       "      <td>False</td>\n",
       "      <td>https://www.ikea.com/sa/en/p/nordviken-bar-tab...</td>\n",
       "      <td>No</td>\n",
       "      <td>Bar table,          140x80 cm</td>\n",
       "      <td>Francis Cayouette</td>\n",
       "      <td>NaN</td>\n",
       "      <td>105.0</td>\n",
       "      <td>80.0</td>\n",
       "    </tr>\n",
       "    <tr>\n",
       "      <th>2</th>\n",
       "      <td>2</td>\n",
       "      <td>9333523</td>\n",
       "      <td>NORDVIKEN / NORDVIKEN</td>\n",
       "      <td>Bar furniture</td>\n",
       "      <td>2095.0</td>\n",
       "      <td>No old price</td>\n",
       "      <td>False</td>\n",
       "      <td>https://www.ikea.com/sa/en/p/nordviken-nordvik...</td>\n",
       "      <td>No</td>\n",
       "      <td>Bar table and 4 bar stools</td>\n",
       "      <td>Francis Cayouette</td>\n",
       "      <td>NaN</td>\n",
       "      <td>NaN</td>\n",
       "      <td>NaN</td>\n",
       "    </tr>\n",
       "    <tr>\n",
       "      <th>3</th>\n",
       "      <td>3</td>\n",
       "      <td>80155205</td>\n",
       "      <td>STIG</td>\n",
       "      <td>Bar furniture</td>\n",
       "      <td>69.0</td>\n",
       "      <td>No old price</td>\n",
       "      <td>True</td>\n",
       "      <td>https://www.ikea.com/sa/en/p/stig-bar-stool-wi...</td>\n",
       "      <td>Yes</td>\n",
       "      <td>Bar stool with backrest,          74 cm</td>\n",
       "      <td>Henrik Preutz</td>\n",
       "      <td>50.0</td>\n",
       "      <td>100.0</td>\n",
       "      <td>60.0</td>\n",
       "    </tr>\n",
       "    <tr>\n",
       "      <th>4</th>\n",
       "      <td>4</td>\n",
       "      <td>30180504</td>\n",
       "      <td>NORBERG</td>\n",
       "      <td>Bar furniture</td>\n",
       "      <td>225.0</td>\n",
       "      <td>No old price</td>\n",
       "      <td>True</td>\n",
       "      <td>https://www.ikea.com/sa/en/p/norberg-wall-moun...</td>\n",
       "      <td>No</td>\n",
       "      <td>Wall-mounted drop-leaf table,         ...</td>\n",
       "      <td>Marcus Arvonen</td>\n",
       "      <td>60.0</td>\n",
       "      <td>43.0</td>\n",
       "      <td>74.0</td>\n",
       "    </tr>\n",
       "  </tbody>\n",
       "</table>\n",
       "</div>"
      ],
      "text/plain": [
       "   Unnamed: 0   item_id                   name       category   price  \\\n",
       "0           0  90420332               FREKVENS  Bar furniture   265.0   \n",
       "1           1    368814              NORDVIKEN  Bar furniture   995.0   \n",
       "2           2   9333523  NORDVIKEN / NORDVIKEN  Bar furniture  2095.0   \n",
       "3           3  80155205                   STIG  Bar furniture    69.0   \n",
       "4           4  30180504                NORBERG  Bar furniture   225.0   \n",
       "\n",
       "      old_price  sellable_online  \\\n",
       "0  No old price             True   \n",
       "1  No old price            False   \n",
       "2  No old price            False   \n",
       "3  No old price             True   \n",
       "4  No old price             True   \n",
       "\n",
       "                                                link other_colors  \\\n",
       "0  https://www.ikea.com/sa/en/p/frekvens-bar-tabl...           No   \n",
       "1  https://www.ikea.com/sa/en/p/nordviken-bar-tab...           No   \n",
       "2  https://www.ikea.com/sa/en/p/nordviken-nordvik...           No   \n",
       "3  https://www.ikea.com/sa/en/p/stig-bar-stool-wi...          Yes   \n",
       "4  https://www.ikea.com/sa/en/p/norberg-wall-moun...           No   \n",
       "\n",
       "                                   short_description              designer  \\\n",
       "0           Bar table, in/outdoor,          51x51 cm  Nicholai Wiig Hansen   \n",
       "1                      Bar table,          140x80 cm     Francis Cayouette   \n",
       "2                         Bar table and 4 bar stools     Francis Cayouette   \n",
       "3            Bar stool with backrest,          74 cm         Henrik Preutz   \n",
       "4          Wall-mounted drop-leaf table,         ...        Marcus Arvonen   \n",
       "\n",
       "   depth  height  width  \n",
       "0    NaN    99.0   51.0  \n",
       "1    NaN   105.0   80.0  \n",
       "2    NaN     NaN    NaN  \n",
       "3   50.0   100.0   60.0  \n",
       "4   60.0    43.0   74.0  "
      ]
     },
     "execution_count": 3,
     "metadata": {},
     "output_type": "execute_result"
    }
   ],
   "source": [
    "df.head()"
   ]
  },
  {
   "cell_type": "markdown",
   "metadata": {},
   "source": [
    "### Data Cleaning"
   ]
  },
  {
   "cell_type": "code",
   "execution_count": null,
   "metadata": {},
   "outputs": [],
   "source": [
    "products = df[df.category.isin(categories)].dropna()"
   ]
  },
  {
   "cell_type": "markdown",
   "metadata": {},
   "source": [
    "We want to use the features `other_colors` and `sellable_online`, but the decision tree model requires features to be numbers. How can we turn features into numbers?"
   ]
  },
  {
   "cell_type": "code",
   "execution_count": null,
   "metadata": {},
   "outputs": [],
   "source": []
  },
  {
   "cell_type": "markdown",
   "metadata": {},
   "source": [
    "### Train Test Split"
   ]
  },
  {
   "cell_type": "markdown",
   "metadata": {},
   "source": [
    "What other features should we use? Think about which features would be helpful to ask questions about in the decision tree."
   ]
  },
  {
   "cell_type": "code",
   "execution_count": null,
   "metadata": {},
   "outputs": [],
   "source": [
    "X = products[[...]]\n",
    "Y = products[\"category\"]"
   ]
  },
  {
   "cell_type": "code",
   "execution_count": null,
   "metadata": {},
   "outputs": [],
   "source": [
    "X_train, X_test, y_train, y_test = train_test_split(X, Y, test_size=0.33)"
   ]
  },
  {
   "cell_type": "markdown",
   "metadata": {},
   "source": [
    "Fill in the blanks"
   ]
  },
  {
   "cell_type": "code",
   "execution_count": null,
   "metadata": {
    "scrolled": false
   },
   "outputs": [],
   "source": [
    "# clf means \"classifier\"\n",
    "clf = tree.DecisionTreeClassifier()\n",
    "clf = clf.fit(..., ...)"
   ]
  },
  {
   "cell_type": "code",
   "execution_count": null,
   "metadata": {},
   "outputs": [],
   "source": [
    "results = clf.predict(...)"
   ]
  },
  {
   "cell_type": "markdown",
   "metadata": {},
   "source": [
    "Discussion questions:\n",
    "- When should we use decision trees over logistic regression?  \n",
    "- What do decision trees do better here compared to linear regression?\n",
    "- What are some pros and cons of decision trees?"
   ]
  }
 ],
 "metadata": {
  "kernelspec": {
   "display_name": "Python 3",
   "language": "python",
   "name": "python3"
  },
  "language_info": {
   "codemirror_mode": {
    "name": "ipython",
    "version": 3
   },
   "file_extension": ".py",
   "mimetype": "text/x-python",
   "name": "python",
   "nbconvert_exporter": "python",
   "pygments_lexer": "ipython3",
   "version": "3.8.3"
  }
 },
 "nbformat": 4,
 "nbformat_minor": 4
}
