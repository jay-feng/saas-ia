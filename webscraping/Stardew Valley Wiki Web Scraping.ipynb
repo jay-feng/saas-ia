{
 "cells": [
  {
   "cell_type": "code",
   "execution_count": 1,
   "metadata": {},
   "outputs": [],
   "source": [
    "import requests\n",
    "import pandas as pd\n",
    "import numpy as np\n",
    "from bs4 import BeautifulSoup"
   ]
  },
  {
   "cell_type": "code",
   "execution_count": 2,
   "metadata": {},
   "outputs": [],
   "source": [
    "import os\n",
    "#os.mkdir(\"data\")"
   ]
  },
  {
   "cell_type": "markdown",
   "metadata": {},
   "source": [
    "# Fish Table"
   ]
  },
  {
   "cell_type": "markdown",
   "metadata": {},
   "source": [
    "Goal: read the \"Fish Types\" table from https://stardewvalleywiki.com/Fish into a Pandas dataframe"
   ]
  },
  {
   "cell_type": "markdown",
   "metadata": {},
   "source": [
    "Request the Fish page, <Response [200]> indicates successful request."
   ]
  },
  {
   "cell_type": "code",
   "execution_count": 3,
   "metadata": {
    "scrolled": false
   },
   "outputs": [
    {
     "data": {
      "text/plain": [
       "<Response [200]>"
      ]
     },
     "execution_count": 3,
     "metadata": {},
     "output_type": "execute_result"
    }
   ],
   "source": [
    "fish_page = requests.get(\"https://stardewvalleywiki.com/Fish\")\n",
    "fish_page"
   ]
  },
  {
   "cell_type": "code",
   "execution_count": 4,
   "metadata": {},
   "outputs": [],
   "source": [
    "soup = BeautifulSoup(fish_page.content, 'html.parser')"
   ]
  },
  {
   "cell_type": "code",
   "execution_count": 5,
   "metadata": {},
   "outputs": [],
   "source": [
    "tables = soup.find_all('table', class_ = 'wikitable')\n",
    "table1 = tables[0]"
   ]
  },
  {
   "cell_type": "markdown",
   "metadata": {},
   "source": [
    "Compile the contents of the table into a list of lists, and convert into a dataframe."
   ]
  },
  {
   "cell_type": "code",
   "execution_count": 6,
   "metadata": {},
   "outputs": [],
   "source": [
    "data = []\n",
    "row_marker = 0\n",
    "for row in table1.find_all('tr'):\n",
    "    stuff = []\n",
    "    column_marker = 0\n",
    "    for column in row.find_all('td'):\n",
    "        if column.find('table'):\n",
    "            continue\n",
    "        stuff.append(column.get_text())\n",
    "        column_marker += 1\n",
    "    data.append(stuff)\n",
    "\n",
    "data = [x for x in data if len(x)>5]"
   ]
  },
  {
   "cell_type": "code",
   "execution_count": 8,
   "metadata": {
    "scrolled": true
   },
   "outputs": [
    {
     "data": {
      "text/html": [
       "<div>\n",
       "<style scoped>\n",
       "    .dataframe tbody tr th:only-of-type {\n",
       "        vertical-align: middle;\n",
       "    }\n",
       "\n",
       "    .dataframe tbody tr th {\n",
       "        vertical-align: top;\n",
       "    }\n",
       "\n",
       "    .dataframe thead th {\n",
       "        text-align: right;\n",
       "    }\n",
       "</style>\n",
       "<table border=\"1\" class=\"dataframe\">\n",
       "  <thead>\n",
       "    <tr style=\"text-align: right;\">\n",
       "      <th></th>\n",
       "      <th>1</th>\n",
       "      <th>2</th>\n",
       "      <th>27</th>\n",
       "      <th>28</th>\n",
       "      <th>29</th>\n",
       "      <th>30</th>\n",
       "      <th>31</th>\n",
       "      <th>32</th>\n",
       "      <th>33</th>\n",
       "      <th>34</th>\n",
       "    </tr>\n",
       "  </thead>\n",
       "  <tbody>\n",
       "    <tr>\n",
       "      <th>0</th>\n",
       "      <td>Pufferfish\\n</td>\n",
       "      <td>Inflates when threatened.\\n</td>\n",
       "      <td>Ocean\\n</td>\n",
       "      <td>12pm – 4pm\\n</td>\n",
       "      <td>Summer\\n</td>\n",
       "      <td>Sun\\n</td>\n",
       "      <td>1-37\\n</td>\n",
       "      <td>80 floater\\n</td>\n",
       "      <td>29\\n</td>\n",
       "      <td>Specialty Fish Bundle Abigail (loved gift) \"...</td>\n",
       "    </tr>\n",
       "    <tr>\n",
       "      <th>1</th>\n",
       "      <td>Anchovy\\n</td>\n",
       "      <td>A small silver fish found in the ocean.\\n</td>\n",
       "      <td>Ocean\\n</td>\n",
       "      <td>Anytime\\n</td>\n",
       "      <td>Spring Fall\\n</td>\n",
       "      <td>Any\\n</td>\n",
       "      <td>1-17\\n</td>\n",
       "      <td>30 dart\\n</td>\n",
       "      <td>13\\n</td>\n",
       "      <td>\\n</td>\n",
       "    </tr>\n",
       "    <tr>\n",
       "      <th>2</th>\n",
       "      <td>Tuna\\n</td>\n",
       "      <td>A large fish that lives in the ocean.\\n</td>\n",
       "      <td>Ocean\\n</td>\n",
       "      <td>6am – 7pm\\n</td>\n",
       "      <td>Summer Winter\\n</td>\n",
       "      <td>Any\\n</td>\n",
       "      <td>12-61\\n</td>\n",
       "      <td>70 smooth\\n</td>\n",
       "      <td>26\\n</td>\n",
       "      <td>Ocean Fish Bundle Fish Taco\\n</td>\n",
       "    </tr>\n",
       "    <tr>\n",
       "      <th>3</th>\n",
       "      <td>Sardine\\n</td>\n",
       "      <td>A common ocean fish.\\n</td>\n",
       "      <td>Ocean\\n</td>\n",
       "      <td>6am – 7pm\\n</td>\n",
       "      <td>Spring Fall Winter\\n</td>\n",
       "      <td>Any\\n</td>\n",
       "      <td>1-13\\n</td>\n",
       "      <td>30 dart\\n</td>\n",
       "      <td>13\\n</td>\n",
       "      <td>Ocean Fish Bundle Dish o' The Sea\\n</td>\n",
       "    </tr>\n",
       "    <tr>\n",
       "      <th>4</th>\n",
       "      <td>Bream\\n</td>\n",
       "      <td>A fairly common river fish that becomes activ...</td>\n",
       "      <td>River (Town+Forest)\\n</td>\n",
       "      <td>6pm – 2am\\n</td>\n",
       "      <td>All Seasons\\n</td>\n",
       "      <td>Any\\n</td>\n",
       "      <td>12-31\\n</td>\n",
       "      <td>35 smooth\\n</td>\n",
       "      <td>14\\n</td>\n",
       "      <td>Night Fishing Bundle Baked Fish\\n</td>\n",
       "    </tr>\n",
       "  </tbody>\n",
       "</table>\n",
       "</div>"
      ],
      "text/plain": [
       "              1                                                  2   \\\n",
       "0   Pufferfish\\n                        Inflates when threatened.\\n   \n",
       "1      Anchovy\\n          A small silver fish found in the ocean.\\n   \n",
       "2         Tuna\\n            A large fish that lives in the ocean.\\n   \n",
       "3      Sardine\\n                             A common ocean fish.\\n   \n",
       "4        Bream\\n   A fairly common river fish that becomes activ...   \n",
       "\n",
       "                       27            28                      29       30  \\\n",
       "0                 Ocean\\n  12pm – 4pm\\n                Summer\\n    Sun\\n   \n",
       "1                 Ocean\\n     Anytime\\n           Spring Fall\\n    Any\\n   \n",
       "2                 Ocean\\n   6am – 7pm\\n         Summer Winter\\n    Any\\n   \n",
       "3                 Ocean\\n   6am – 7pm\\n    Spring Fall Winter\\n    Any\\n   \n",
       "4   River (Town+Forest)\\n   6pm – 2am\\n           All Seasons\\n    Any\\n   \n",
       "\n",
       "         31             32     33  \\\n",
       "0    1-37\\n   80 floater\\n   29\\n   \n",
       "1    1-17\\n      30 dart\\n   13\\n   \n",
       "2   12-61\\n    70 smooth\\n   26\\n   \n",
       "3    1-13\\n      30 dart\\n   13\\n   \n",
       "4   12-31\\n    35 smooth\\n   14\\n   \n",
       "\n",
       "                                                  34  \n",
       "0    Specialty Fish Bundle Abigail (loved gift) \"...  \n",
       "1                                                 \\n  \n",
       "2                      Ocean Fish Bundle Fish Taco\\n  \n",
       "3                Ocean Fish Bundle Dish o' The Sea\\n  \n",
       "4                  Night Fishing Bundle Baked Fish\\n  "
      ]
     },
     "execution_count": 8,
     "metadata": {},
     "output_type": "execute_result"
    }
   ],
   "source": [
    "desired_cols = [1, 2] + list(range(27, 35))\n",
    "\n",
    "fish_df = pd.DataFrame(data, columns = list(range(35)))\n",
    "fish_df = fish_df[desired_cols]\n",
    "\n",
    "fish_df.head()"
   ]
  },
  {
   "cell_type": "markdown",
   "metadata": {},
   "source": [
    "## Data Cleaning"
   ]
  },
  {
   "cell_type": "markdown",
   "metadata": {},
   "source": [
    "Remove the '\\n' newline at the end of string:"
   ]
  },
  {
   "cell_type": "code",
   "execution_count": 9,
   "metadata": {
    "scrolled": false
   },
   "outputs": [
    {
     "data": {
      "text/html": [
       "<div>\n",
       "<style scoped>\n",
       "    .dataframe tbody tr th:only-of-type {\n",
       "        vertical-align: middle;\n",
       "    }\n",
       "\n",
       "    .dataframe tbody tr th {\n",
       "        vertical-align: top;\n",
       "    }\n",
       "\n",
       "    .dataframe thead th {\n",
       "        text-align: right;\n",
       "    }\n",
       "</style>\n",
       "<table border=\"1\" class=\"dataframe\">\n",
       "  <thead>\n",
       "    <tr style=\"text-align: right;\">\n",
       "      <th></th>\n",
       "      <th>1</th>\n",
       "      <th>2</th>\n",
       "      <th>27</th>\n",
       "      <th>28</th>\n",
       "      <th>29</th>\n",
       "      <th>30</th>\n",
       "      <th>31</th>\n",
       "      <th>32</th>\n",
       "      <th>33</th>\n",
       "      <th>34</th>\n",
       "    </tr>\n",
       "  </thead>\n",
       "  <tbody>\n",
       "    <tr>\n",
       "      <th>0</th>\n",
       "      <td>Pufferfish</td>\n",
       "      <td>Inflates when threatened.</td>\n",
       "      <td>Ocean</td>\n",
       "      <td>12pm – 4pm</td>\n",
       "      <td>Summer</td>\n",
       "      <td>Sun</td>\n",
       "      <td>1-37</td>\n",
       "      <td>80 floater</td>\n",
       "      <td>29</td>\n",
       "      <td>Specialty Fish Bundle Abigail (loved gift) \"...</td>\n",
       "    </tr>\n",
       "    <tr>\n",
       "      <th>1</th>\n",
       "      <td>Anchovy</td>\n",
       "      <td>A small silver fish found in the ocean.</td>\n",
       "      <td>Ocean</td>\n",
       "      <td>Anytime</td>\n",
       "      <td>Spring Fall</td>\n",
       "      <td>Any</td>\n",
       "      <td>1-17</td>\n",
       "      <td>30 dart</td>\n",
       "      <td>13</td>\n",
       "      <td></td>\n",
       "    </tr>\n",
       "    <tr>\n",
       "      <th>2</th>\n",
       "      <td>Tuna</td>\n",
       "      <td>A large fish that lives in the ocean.</td>\n",
       "      <td>Ocean</td>\n",
       "      <td>6am – 7pm</td>\n",
       "      <td>Summer Winter</td>\n",
       "      <td>Any</td>\n",
       "      <td>12-61</td>\n",
       "      <td>70 smooth</td>\n",
       "      <td>26</td>\n",
       "      <td>Ocean Fish Bundle Fish Taco</td>\n",
       "    </tr>\n",
       "    <tr>\n",
       "      <th>3</th>\n",
       "      <td>Sardine</td>\n",
       "      <td>A common ocean fish.</td>\n",
       "      <td>Ocean</td>\n",
       "      <td>6am – 7pm</td>\n",
       "      <td>Spring Fall Winter</td>\n",
       "      <td>Any</td>\n",
       "      <td>1-13</td>\n",
       "      <td>30 dart</td>\n",
       "      <td>13</td>\n",
       "      <td>Ocean Fish Bundle Dish o' The Sea</td>\n",
       "    </tr>\n",
       "    <tr>\n",
       "      <th>4</th>\n",
       "      <td>Bream</td>\n",
       "      <td>A fairly common river fish that becomes activ...</td>\n",
       "      <td>River (Town+Forest)</td>\n",
       "      <td>6pm – 2am</td>\n",
       "      <td>All Seasons</td>\n",
       "      <td>Any</td>\n",
       "      <td>12-31</td>\n",
       "      <td>35 smooth</td>\n",
       "      <td>14</td>\n",
       "      <td>Night Fishing Bundle Baked Fish</td>\n",
       "    </tr>\n",
       "  </tbody>\n",
       "</table>\n",
       "</div>"
      ],
      "text/plain": [
       "            1                                                  2   \\\n",
       "0   Pufferfish                          Inflates when threatened.   \n",
       "1      Anchovy            A small silver fish found in the ocean.   \n",
       "2         Tuna              A large fish that lives in the ocean.   \n",
       "3      Sardine                               A common ocean fish.   \n",
       "4        Bream   A fairly common river fish that becomes activ...   \n",
       "\n",
       "                     27          28                    29     30      31  \\\n",
       "0                 Ocean  12pm – 4pm                Summer    Sun    1-37   \n",
       "1                 Ocean     Anytime           Spring Fall    Any    1-17   \n",
       "2                 Ocean   6am – 7pm         Summer Winter    Any   12-61   \n",
       "3                 Ocean   6am – 7pm    Spring Fall Winter    Any    1-13   \n",
       "4   River (Town+Forest)   6pm – 2am           All Seasons    Any   12-31   \n",
       "\n",
       "            32   33                                                 34  \n",
       "0   80 floater   29    Specialty Fish Bundle Abigail (loved gift) \"...  \n",
       "1      30 dart   13                                                     \n",
       "2    70 smooth   26                        Ocean Fish Bundle Fish Taco  \n",
       "3      30 dart   13                  Ocean Fish Bundle Dish o' The Sea  \n",
       "4    35 smooth   14                    Night Fishing Bundle Baked Fish  "
      ]
     },
     "execution_count": 9,
     "metadata": {},
     "output_type": "execute_result"
    }
   ],
   "source": [
    "def remove_newline(text):\n",
    "    return text.replace('\\n', '')\n",
    "    \n",
    "fish_df = fish_df.applymap(remove_newline)\n",
    "fish_df.head()"
   ]
  },
  {
   "cell_type": "markdown",
   "metadata": {},
   "source": [
    "Rename columns from default numbers to actual column names on the website, convert 'Base XP' column from strings to ints:"
   ]
  },
  {
   "cell_type": "code",
   "execution_count": 10,
   "metadata": {
    "scrolled": true
   },
   "outputs": [
    {
     "data": {
      "text/html": [
       "<div>\n",
       "<style scoped>\n",
       "    .dataframe tbody tr th:only-of-type {\n",
       "        vertical-align: middle;\n",
       "    }\n",
       "\n",
       "    .dataframe tbody tr th {\n",
       "        vertical-align: top;\n",
       "    }\n",
       "\n",
       "    .dataframe thead th {\n",
       "        text-align: right;\n",
       "    }\n",
       "</style>\n",
       "<table border=\"1\" class=\"dataframe\">\n",
       "  <thead>\n",
       "    <tr style=\"text-align: right;\">\n",
       "      <th></th>\n",
       "      <th>Description</th>\n",
       "      <th>Location</th>\n",
       "      <th>Time</th>\n",
       "      <th>Seasons</th>\n",
       "      <th>Weather</th>\n",
       "      <th>Size (inches)</th>\n",
       "      <th>Difficult and Behavior</th>\n",
       "      <th>Base XP</th>\n",
       "      <th>Used In</th>\n",
       "    </tr>\n",
       "    <tr>\n",
       "      <th>Name</th>\n",
       "      <th></th>\n",
       "      <th></th>\n",
       "      <th></th>\n",
       "      <th></th>\n",
       "      <th></th>\n",
       "      <th></th>\n",
       "      <th></th>\n",
       "      <th></th>\n",
       "      <th></th>\n",
       "    </tr>\n",
       "  </thead>\n",
       "  <tbody>\n",
       "    <tr>\n",
       "      <th>Pufferfish</th>\n",
       "      <td>Inflates when threatened.</td>\n",
       "      <td>Ocean</td>\n",
       "      <td>12pm – 4pm</td>\n",
       "      <td>Summer</td>\n",
       "      <td>Sun</td>\n",
       "      <td>1-37</td>\n",
       "      <td>80 floater</td>\n",
       "      <td>29</td>\n",
       "      <td>Specialty Fish Bundle Abigail (loved gift) \"...</td>\n",
       "    </tr>\n",
       "    <tr>\n",
       "      <th>Anchovy</th>\n",
       "      <td>A small silver fish found in the ocean.</td>\n",
       "      <td>Ocean</td>\n",
       "      <td>Anytime</td>\n",
       "      <td>Spring Fall</td>\n",
       "      <td>Any</td>\n",
       "      <td>1-17</td>\n",
       "      <td>30 dart</td>\n",
       "      <td>13</td>\n",
       "      <td></td>\n",
       "    </tr>\n",
       "    <tr>\n",
       "      <th>Tuna</th>\n",
       "      <td>A large fish that lives in the ocean.</td>\n",
       "      <td>Ocean</td>\n",
       "      <td>6am – 7pm</td>\n",
       "      <td>Summer Winter</td>\n",
       "      <td>Any</td>\n",
       "      <td>12-61</td>\n",
       "      <td>70 smooth</td>\n",
       "      <td>26</td>\n",
       "      <td>Ocean Fish Bundle Fish Taco</td>\n",
       "    </tr>\n",
       "    <tr>\n",
       "      <th>Sardine</th>\n",
       "      <td>A common ocean fish.</td>\n",
       "      <td>Ocean</td>\n",
       "      <td>6am – 7pm</td>\n",
       "      <td>Spring Fall Winter</td>\n",
       "      <td>Any</td>\n",
       "      <td>1-13</td>\n",
       "      <td>30 dart</td>\n",
       "      <td>13</td>\n",
       "      <td>Ocean Fish Bundle Dish o' The Sea</td>\n",
       "    </tr>\n",
       "    <tr>\n",
       "      <th>Bream</th>\n",
       "      <td>A fairly common river fish that becomes activ...</td>\n",
       "      <td>River (Town+Forest)</td>\n",
       "      <td>6pm – 2am</td>\n",
       "      <td>All Seasons</td>\n",
       "      <td>Any</td>\n",
       "      <td>12-31</td>\n",
       "      <td>35 smooth</td>\n",
       "      <td>14</td>\n",
       "      <td>Night Fishing Bundle Baked Fish</td>\n",
       "    </tr>\n",
       "  </tbody>\n",
       "</table>\n",
       "</div>"
      ],
      "text/plain": [
       "                                                   Description  \\\n",
       "Name                                                             \n",
       " Pufferfish                          Inflates when threatened.   \n",
       " Anchovy               A small silver fish found in the ocean.   \n",
       " Tuna                    A large fish that lives in the ocean.   \n",
       " Sardine                                  A common ocean fish.   \n",
       " Bream        A fairly common river fish that becomes activ...   \n",
       "\n",
       "                         Location        Time               Seasons Weather  \\\n",
       "Name                                                                          \n",
       " Pufferfish                 Ocean  12pm – 4pm                Summer     Sun   \n",
       " Anchovy                    Ocean     Anytime           Spring Fall     Any   \n",
       " Tuna                       Ocean   6am – 7pm         Summer Winter     Any   \n",
       " Sardine                    Ocean   6am – 7pm    Spring Fall Winter     Any   \n",
       " Bream        River (Town+Forest)   6pm – 2am           All Seasons     Any   \n",
       "\n",
       "            Size (inches) Difficult and Behavior  Base XP  \\\n",
       "Name                                                        \n",
       " Pufferfish          1-37             80 floater       29   \n",
       " Anchovy             1-17                30 dart       13   \n",
       " Tuna               12-61              70 smooth       26   \n",
       " Sardine             1-13                30 dart       13   \n",
       " Bream              12-31              35 smooth       14   \n",
       "\n",
       "                                                       Used In  \n",
       "Name                                                            \n",
       " Pufferfish    Specialty Fish Bundle Abigail (loved gift) \"...  \n",
       " Anchovy                                                        \n",
       " Tuna                              Ocean Fish Bundle Fish Taco  \n",
       " Sardine                     Ocean Fish Bundle Dish o' The Sea  \n",
       " Bream                         Night Fishing Bundle Baked Fish  "
      ]
     },
     "execution_count": 10,
     "metadata": {},
     "output_type": "execute_result"
    }
   ],
   "source": [
    "site_cols = [\"Name\", \"Description\", \"Location\", \"Time\", \"Seasons\", \"Weather\", \"Size (inches)\",\n",
    "             \"Difficult and Behavior\", \"Base XP\", \"Used In\"]\n",
    "\n",
    "col_map = dict(zip(desired_cols, site_cols))\n",
    "\n",
    "fish_df = fish_df.rename(columns = col_map)\n",
    "fish_df = fish_df.set_index(\"Name\")\n",
    "\n",
    "fish_df[\"Base XP\"] = pd.to_numeric(fish_df[\"Base XP\"], errors='coerce')\n",
    "\n",
    "fish_df.head()"
   ]
  },
  {
   "cell_type": "code",
   "execution_count": 11,
   "metadata": {},
   "outputs": [],
   "source": [
    "fish_df.to_csv(\"data/fish.csv\")"
   ]
  },
  {
   "cell_type": "markdown",
   "metadata": {},
   "source": [
    "# Villager Images"
   ]
  },
  {
   "cell_type": "markdown",
   "metadata": {},
   "source": [
    "Goal: download the thumbnail images of all the \"villagers\" on https://stardewvalleywiki.com/Villagers"
   ]
  },
  {
   "cell_type": "code",
   "execution_count": 12,
   "metadata": {},
   "outputs": [],
   "source": [
    "villager_page = requests.get(\"https://stardewvalleywiki.com/Villagers\")\n",
    "soup2 = BeautifulSoup(villager_page.content, 'html.parser')"
   ]
  },
  {
   "cell_type": "markdown",
   "metadata": {},
   "source": [
    "Download the images in all instances of the \"thumb\" class, which contain the thumbnail image of the villager and a link to its character page. "
   ]
  },
  {
   "cell_type": "code",
   "execution_count": 13,
   "metadata": {},
   "outputs": [],
   "source": [
    "thumbs = soup2.find_all(class_ = 'thumb')\n",
    "\n",
    "for thumb in thumbs:  \n",
    "    img_html = thumb.find('img')\n",
    "\n",
    "    file_name = img_html.get('src')\n",
    "    img_name = file_name[file_name.rfind('/') + 1 :]\n",
    "    url = 'http://www.stardewvalleywiki.com' + file_name\n",
    "\n",
    "    f = open(\"data/\" + img_name,'wb')\n",
    "    f.write(requests.get(url).content)\n",
    "    f.close()"
   ]
  },
  {
   "cell_type": "markdown",
   "metadata": {},
   "source": [
    "### Some scraped Villager images:\n",
    "![title](data/Abigail.png)\n",
    "![title](data/Alex.png)\n",
    "![title](data/Bouncer.png)"
   ]
  },
  {
   "cell_type": "code",
   "execution_count": null,
   "metadata": {},
   "outputs": [],
   "source": []
  }
 ],
 "metadata": {
  "kernelspec": {
   "display_name": "Python 3",
   "language": "python",
   "name": "python3"
  },
  "language_info": {
   "codemirror_mode": {
    "name": "ipython",
    "version": 3
   },
   "file_extension": ".py",
   "mimetype": "text/x-python",
   "name": "python",
   "nbconvert_exporter": "python",
   "pygments_lexer": "ipython3",
   "version": "3.8.3"
  }
 },
 "nbformat": 4,
 "nbformat_minor": 2
}
